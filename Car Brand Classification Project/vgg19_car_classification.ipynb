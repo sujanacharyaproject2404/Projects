{
 "cells": [
  {
   "cell_type": "code",
   "execution_count": 1,
   "metadata": {
    "id": "k9Wp9Cvgl1xD"
   },
   "outputs": [
    {
     "name": "stderr",
     "output_type": "stream",
     "text": [
      "The syntax of the command is incorrect.\n",
      "'cp' is not recognized as an internal or external command,\n",
      "operable program or batch file.\n"
     ]
    }
   ],
   "source": [
    "!mkdir -p ~/.kaggle\n",
    "!cp kaggle.json ~/.kaggle/"
   ]
  },
  {
   "cell_type": "code",
   "execution_count": 2,
   "metadata": {
    "colab": {
     "base_uri": "https://localhost:8080/"
    },
    "id": "eee9mKp4mWcu",
    "outputId": "b8d4ad94-f97d-4a16-d98b-e1a7e2677742"
   },
   "outputs": [
    {
     "name": "stdout",
     "output_type": "stream",
     "text": [
      "cars-image-dataset.zip: Skipping, found more recently modified local copy (use --force to force download)\n"
     ]
    }
   ],
   "source": [
    "!kaggle datasets download -d kshitij192/cars-image-dataset"
   ]
  },
  {
   "cell_type": "code",
   "execution_count": 3,
   "metadata": {
    "id": "vBusaYEkmWjs"
   },
   "outputs": [],
   "source": [
    "import zipfile\n",
    "zip_ref = zipfile.ZipFile('/content/cars-image-dataset.zip', 'r')\n",
    "zip_ref.extractall('/content/Dataset')\n",
    "zip_ref.close()"
   ]
  },
  {
   "cell_type": "code",
   "execution_count": 4,
   "metadata": {
    "id": "WRtXOxwNox1t"
   },
   "outputs": [],
   "source": [
    "# import the libraries as shown below\n",
    "import tensorflow as tf\n",
    "\n",
    "from tensorflow.keras.layers import Input, Lambda, Dense, Flatten\n",
    "from tensorflow.keras.models import Model\n",
    "from tensorflow.keras.applications.resnet50 import ResNet50\n",
    "\n",
    "#from keras.applications.vgg16 import VGG16\n",
    "from tensorflow.keras.applications.resnet50 import preprocess_input\n",
    "from tensorflow.keras.preprocessing import image\n",
    "from tensorflow.keras.preprocessing.image import ImageDataGenerator,load_img\n",
    "from tensorflow.keras.models import Sequential\n",
    "import numpy as np\n",
    "from glob import glob\n",
    "import matplotlib.pyplot as plt"
   ]
  },
  {
   "cell_type": "code",
   "execution_count": 5,
   "metadata": {
    "id": "y83v9Z_oox51"
   },
   "outputs": [],
   "source": [
    "IMAGE_SIZE = [224,224]\n",
    "\n",
    "train_path = '/content/Dataset/Cars Dataset/train'\n",
    "valid__path = '/content/Dataset/Cars Dataset/test'"
   ]
  },
  {
   "cell_type": "code",
   "execution_count": 5,
   "metadata": {
    "id": "72onoyXHpHeF"
   },
   "outputs": [],
   "source": []
  },
  {
   "cell_type": "code",
   "execution_count": 6,
   "metadata": {
    "colab": {
     "base_uri": "https://localhost:8080/"
    },
    "id": "4bgVHTbdpHgu",
    "outputId": "cf0b4f12-5857-4e7f-af71-1b81ef304d42"
   },
   "outputs": [
    {
     "name": "stdout",
     "output_type": "stream",
     "text": [
      "Downloading data from https://storage.googleapis.com/tensorflow/keras-applications/vgg19/vgg19_weights_tf_dim_ordering_tf_kernels_notop.h5\n",
      "80134624/80134624 [==============================] - 5s 0us/step\n"
     ]
    }
   ],
   "source": [
    "resnet152V2 = tf.keras.applications.VGG19(\n",
    "    include_top=False,\n",
    "    weights=\"imagenet\",\n",
    "    input_shape=IMAGE_SIZE + [3],\n",
    "    )"
   ]
  },
  {
   "cell_type": "code",
   "execution_count": 7,
   "metadata": {
    "id": "2W3hWfCJqrRq"
   },
   "outputs": [],
   "source": [
    "for layer in resnet152V2.layers:\n",
    "  layer.trainable = False"
   ]
  },
  {
   "cell_type": "code",
   "execution_count": 8,
   "metadata": {
    "colab": {
     "base_uri": "https://localhost:8080/"
    },
    "id": "BMLNeHqgqrUj",
    "outputId": "91680a13-b2db-460e-ab12-80efcb242341"
   },
   "outputs": [
    {
     "data": {
      "text/plain": [
       "['/content/Dataset/Cars Dataset/train/Toyota Innova',\n",
       " '/content/Dataset/Cars Dataset/train/Rolls Royce',\n",
       " '/content/Dataset/Cars Dataset/train/Tata Safari',\n",
       " '/content/Dataset/Cars Dataset/train/Mahindra Scorpio',\n",
       " '/content/Dataset/Cars Dataset/train/Hyundai Creta',\n",
       " '/content/Dataset/Cars Dataset/train/Audi',\n",
       " '/content/Dataset/Cars Dataset/train/Swift']"
      ]
     },
     "execution_count": 8,
     "metadata": {},
     "output_type": "execute_result"
    }
   ],
   "source": [
    "folders = glob('/content/Dataset/Cars Dataset/train/*')\n",
    "folders"
   ]
  },
  {
   "cell_type": "code",
   "execution_count": 9,
   "metadata": {
    "id": "haJFA0T_qrXm"
   },
   "outputs": [],
   "source": [
    "x = Flatten()(resnet152V2.output)"
   ]
  },
  {
   "cell_type": "code",
   "execution_count": 10,
   "metadata": {
    "id": "qucrhvE-qraZ"
   },
   "outputs": [],
   "source": [
    "prediction = Dense(len(folders), activation='softmax')(x)\n",
    "\n",
    "# create a model object\n",
    "model = Model(inputs = resnet152V2.input, outputs = prediction)"
   ]
  },
  {
   "cell_type": "code",
   "execution_count": 11,
   "metadata": {
    "colab": {
     "base_uri": "https://localhost:8080/"
    },
    "id": "2PHIQdWhrP9s",
    "outputId": "10a113dd-1a3b-4ac4-cafc-b92380642bf1"
   },
   "outputs": [
    {
     "name": "stdout",
     "output_type": "stream",
     "text": [
      "Model: \"model\"\n",
      "_________________________________________________________________\n",
      " Layer (type)                Output Shape              Param #   \n",
      "=================================================================\n",
      " input_1 (InputLayer)        [(None, 224, 224, 3)]     0         \n",
      "                                                                 \n",
      " block1_conv1 (Conv2D)       (None, 224, 224, 64)      1792      \n",
      "                                                                 \n",
      " block1_conv2 (Conv2D)       (None, 224, 224, 64)      36928     \n",
      "                                                                 \n",
      " block1_pool (MaxPooling2D)  (None, 112, 112, 64)      0         \n",
      "                                                                 \n",
      " block2_conv1 (Conv2D)       (None, 112, 112, 128)     73856     \n",
      "                                                                 \n",
      " block2_conv2 (Conv2D)       (None, 112, 112, 128)     147584    \n",
      "                                                                 \n",
      " block2_pool (MaxPooling2D)  (None, 56, 56, 128)       0         \n",
      "                                                                 \n",
      " block3_conv1 (Conv2D)       (None, 56, 56, 256)       295168    \n",
      "                                                                 \n",
      " block3_conv2 (Conv2D)       (None, 56, 56, 256)       590080    \n",
      "                                                                 \n",
      " block3_conv3 (Conv2D)       (None, 56, 56, 256)       590080    \n",
      "                                                                 \n",
      " block3_conv4 (Conv2D)       (None, 56, 56, 256)       590080    \n",
      "                                                                 \n",
      " block3_pool (MaxPooling2D)  (None, 28, 28, 256)       0         \n",
      "                                                                 \n",
      " block4_conv1 (Conv2D)       (None, 28, 28, 512)       1180160   \n",
      "                                                                 \n",
      " block4_conv2 (Conv2D)       (None, 28, 28, 512)       2359808   \n",
      "                                                                 \n",
      " block4_conv3 (Conv2D)       (None, 28, 28, 512)       2359808   \n",
      "                                                                 \n",
      " block4_conv4 (Conv2D)       (None, 28, 28, 512)       2359808   \n",
      "                                                                 \n",
      " block4_pool (MaxPooling2D)  (None, 14, 14, 512)       0         \n",
      "                                                                 \n",
      " block5_conv1 (Conv2D)       (None, 14, 14, 512)       2359808   \n",
      "                                                                 \n",
      " block5_conv2 (Conv2D)       (None, 14, 14, 512)       2359808   \n",
      "                                                                 \n",
      " block5_conv3 (Conv2D)       (None, 14, 14, 512)       2359808   \n",
      "                                                                 \n",
      " block5_conv4 (Conv2D)       (None, 14, 14, 512)       2359808   \n",
      "                                                                 \n",
      " block5_pool (MaxPooling2D)  (None, 7, 7, 512)         0         \n",
      "                                                                 \n",
      " flatten (Flatten)           (None, 25088)             0         \n",
      "                                                                 \n",
      " dense (Dense)               (None, 7)                 175623    \n",
      "                                                                 \n",
      "=================================================================\n",
      "Total params: 20,200,007\n",
      "Trainable params: 175,623\n",
      "Non-trainable params: 20,024,384\n",
      "_________________________________________________________________\n"
     ]
    }
   ],
   "source": [
    "model.summary()"
   ]
  },
  {
   "cell_type": "code",
   "execution_count": 12,
   "metadata": {
    "id": "rADSgleyrQAx"
   },
   "outputs": [],
   "source": [
    "model.compile(\n",
    "  loss='categorical_crossentropy',\n",
    "  optimizer='adam',\n",
    "  metrics=['accuracy'])"
   ]
  },
  {
   "cell_type": "code",
   "execution_count": 13,
   "metadata": {
    "id": "waOtVmU8rQD6"
   },
   "outputs": [],
   "source": [
    "# Use the Image Data Generator to import the images from the dataset\n",
    "from tensorflow.keras.preprocessing.image import ImageDataGenerator\n",
    "\n",
    "train_datagen = ImageDataGenerator(rescale = 1./255,\n",
    "                                   shear_range = 0.2,\n",
    "                                   zoom_range = 0.2,\n",
    "                                   horizontal_flip = True)\n",
    "\n",
    "test_datagen = ImageDataGenerator(rescale = 1./255)"
   ]
  },
  {
   "cell_type": "code",
   "execution_count": 14,
   "metadata": {
    "colab": {
     "base_uri": "https://localhost:8080/"
    },
    "id": "QvgBcdBEsy3G",
    "outputId": "be28d4d9-5953-4704-d97c-b5985e4b4c27"
   },
   "outputs": [
    {
     "name": "stdout",
     "output_type": "stream",
     "text": [
      "Found 3352 images belonging to 7 classes.\n"
     ]
    }
   ],
   "source": [
    "# Make sure you provide the same target size as initialied for the image size\n",
    "training_set = train_datagen.flow_from_directory('/content/Dataset/Cars Dataset/train',\n",
    "                                                 target_size = (224, 224),\n",
    "                                                 batch_size = 32,\n",
    "                                                 class_mode = 'categorical',)"
   ]
  },
  {
   "cell_type": "code",
   "execution_count": 15,
   "metadata": {
    "colab": {
     "base_uri": "https://localhost:8080/"
    },
    "id": "77eXS6p_sy6D",
    "outputId": "6349252f-4e38-4258-b354-8dfc06e2ee06"
   },
   "outputs": [
    {
     "name": "stdout",
     "output_type": "stream",
     "text": [
      "Found 813 images belonging to 7 classes.\n"
     ]
    }
   ],
   "source": [
    "test_set = test_datagen.flow_from_directory('/content/Dataset/Cars Dataset/test',\n",
    "                                            target_size = (224, 224),\n",
    "                                            batch_size = 32,\n",
    "                                            class_mode = 'categorical')"
   ]
  },
  {
   "cell_type": "code",
   "execution_count": 16,
   "metadata": {
    "colab": {
     "base_uri": "https://localhost:8080/"
    },
    "id": "PKNBIDTlsy82",
    "outputId": "1c60b6f3-ab20-4daa-9191-ceb48b4fddec"
   },
   "outputs": [
    {
     "name": "stderr",
     "output_type": "stream",
     "text": [
      "<ipython-input-16-2d02736eff38>:3: UserWarning: `Model.fit_generator` is deprecated and will be removed in a future version. Please use `Model.fit`, which supports generators.\n",
      "  r = model.fit_generator(\n"
     ]
    },
    {
     "name": "stdout",
     "output_type": "stream",
     "text": [
      "Epoch 1/20\n",
      "105/105 [==============================] - 62s 537ms/step - loss: 1.2167 - accuracy: 0.6077 - val_loss: 0.6680 - val_accuracy: 0.7921\n",
      "Epoch 2/20\n",
      "105/105 [==============================] - 48s 461ms/step - loss: 0.5048 - accuracy: 0.8443 - val_loss: 0.4864 - val_accuracy: 0.8376\n",
      "Epoch 3/20\n",
      "105/105 [==============================] - 47s 448ms/step - loss: 0.3715 - accuracy: 0.8828 - val_loss: 0.3755 - val_accuracy: 0.8721\n",
      "Epoch 4/20\n",
      "105/105 [==============================] - 48s 459ms/step - loss: 0.2670 - accuracy: 0.9180 - val_loss: 0.3900 - val_accuracy: 0.8819\n",
      "Epoch 5/20\n",
      "105/105 [==============================] - 48s 459ms/step - loss: 0.2116 - accuracy: 0.9397 - val_loss: 0.5550 - val_accuracy: 0.8007\n",
      "Epoch 6/20\n",
      "105/105 [==============================] - 48s 462ms/step - loss: 0.1936 - accuracy: 0.9463 - val_loss: 0.2814 - val_accuracy: 0.9139\n",
      "Epoch 7/20\n",
      "105/105 [==============================] - 48s 450ms/step - loss: 0.1619 - accuracy: 0.9517 - val_loss: 0.2792 - val_accuracy: 0.9090\n",
      "Epoch 8/20\n",
      "105/105 [==============================] - 48s 452ms/step - loss: 0.1141 - accuracy: 0.9717 - val_loss: 0.2753 - val_accuracy: 0.9114\n",
      "Epoch 9/20\n",
      "105/105 [==============================] - 47s 450ms/step - loss: 0.1204 - accuracy: 0.9627 - val_loss: 0.3931 - val_accuracy: 0.8708\n",
      "Epoch 10/20\n",
      "105/105 [==============================] - 48s 455ms/step - loss: 0.1010 - accuracy: 0.9714 - val_loss: 0.2833 - val_accuracy: 0.9114\n",
      "Epoch 11/20\n",
      "105/105 [==============================] - 48s 455ms/step - loss: 0.0779 - accuracy: 0.9800 - val_loss: 0.3109 - val_accuracy: 0.9090\n",
      "Epoch 12/20\n",
      "105/105 [==============================] - 47s 443ms/step - loss: 0.0753 - accuracy: 0.9830 - val_loss: 0.3486 - val_accuracy: 0.9016\n",
      "Epoch 13/20\n",
      "105/105 [==============================] - 47s 451ms/step - loss: 0.0732 - accuracy: 0.9815 - val_loss: 0.2764 - val_accuracy: 0.9127\n",
      "Epoch 14/20\n",
      "105/105 [==============================] - 47s 448ms/step - loss: 0.0553 - accuracy: 0.9866 - val_loss: 0.2372 - val_accuracy: 0.9299\n",
      "Epoch 15/20\n",
      "105/105 [==============================] - 46s 439ms/step - loss: 0.0450 - accuracy: 0.9908 - val_loss: 0.2927 - val_accuracy: 0.9065\n",
      "Epoch 16/20\n",
      "105/105 [==============================] - 46s 437ms/step - loss: 0.0409 - accuracy: 0.9931 - val_loss: 0.2734 - val_accuracy: 0.9139\n",
      "Epoch 17/20\n",
      "105/105 [==============================] - 46s 438ms/step - loss: 0.0359 - accuracy: 0.9922 - val_loss: 0.2439 - val_accuracy: 0.9237\n",
      "Epoch 18/20\n",
      "105/105 [==============================] - 47s 450ms/step - loss: 0.0388 - accuracy: 0.9925 - val_loss: 0.2392 - val_accuracy: 0.9188\n",
      "Epoch 19/20\n",
      "105/105 [==============================] - 47s 443ms/step - loss: 0.0320 - accuracy: 0.9934 - val_loss: 0.2613 - val_accuracy: 0.9262\n",
      "Epoch 20/20\n",
      "105/105 [==============================] - 46s 441ms/step - loss: 0.0380 - accuracy: 0.9905 - val_loss: 0.3066 - val_accuracy: 0.9127\n"
     ]
    }
   ],
   "source": [
    "# fit the model\n",
    "# Run the cell. It will take some time to execute\n",
    "r = model.fit_generator(\n",
    "  training_set,\n",
    "  validation_data=test_set,\n",
    "  epochs=20,\n",
    "  steps_per_epoch=len(training_set),\n",
    "  validation_steps=len(test_set)\n",
    ")"
   ]
  },
  {
   "cell_type": "code",
   "execution_count": 17,
   "metadata": {
    "colab": {
     "base_uri": "https://localhost:8080/",
     "height": 531
    },
    "id": "2MhfiJYDsy_k",
    "outputId": "f796085c-9ddd-48ac-81f4-85babc846c88"
   },
   "outputs": [
    {
     "data": {
      "image/png": "[encoded data removed]",
      "text/plain": [
       "<Figure size 432x288 with 1 Axes>"
      ]
     },
     "metadata": {
      "needs_background": "light"
     },
     "output_type": "display_data"
    },
    {
     "data": {
      "image/png": "[encoded data removed]",
      "text/plain": [
       "<Figure size 432x288 with 1 Axes>"
      ]
     },
     "metadata": {
      "needs_background": "light"
     },
     "output_type": "display_data"
    },
    {
     "data": {
      "text/plain": [
       "<Figure size 432x288 with 0 Axes>"
      ]
     },
     "metadata": {},
     "output_type": "display_data"
    }
   ],
   "source": [
    "# plot the loss\n",
    "plt.plot(r.history['loss'], label='train loss')\n",
    "plt.plot(r.history['val_loss'], label='val loss')\n",
    "plt.legend()\n",
    "plt.show()\n",
    "plt.savefig('LossVal_loss')\n",
    "\n",
    "# plot the accuracy\n",
    "plt.plot(r.history['accuracy'], label='train acc')\n",
    "plt.plot(r.history['val_accuracy'], label='val acc')\n",
    "plt.legend()\n",
    "plt.show()\n",
    "plt.savefig('AccVal_acc')"
   ]
  },
  {
   "cell_type": "code",
   "execution_count": 18,
   "metadata": {
    "id": "HDP-3XANszCV"
   },
   "outputs": [],
   "source": [
    "# save it as a h5 file\n",
    "\n",
    "\n",
    "from tensorflow.keras.models import load_model\n",
    "\n",
    "model.save('model_VGG19.h5')"
   ]
  },
  {
   "cell_type": "code",
   "execution_count": 20,
   "metadata": {
    "colab": {
     "base_uri": "https://localhost:8080/"
    },
    "id": "2kUHJ7hn3_Hi",
    "outputId": "f42d55b7-5758-48dc-e37d-7a1642f19d84"
   },
   "outputs": [
    {
     "name": "stdout",
     "output_type": "stream",
     "text": [
      "26/26 [==============================] - 4s 152ms/step\n"
     ]
    },
    {
     "data": {
      "text/plain": [
       "array([[1.7940074e-05, 7.0646038e-08, 1.3074853e-09, ..., 9.9997711e-01,\n",
       "        6.7607672e-08, 6.4443531e-09],\n",
       "       [2.0124132e-04, 3.6153600e-05, 2.1113292e-06, ..., 1.3411111e-06,\n",
       "        4.3406911e-07, 9.9974877e-01],\n",
       "       [2.1704657e-03, 6.3419534e-04, 9.0814492e-06, ..., 2.8536466e-05,\n",
       "        9.9611276e-01, 5.9878407e-04],\n",
       "       ...,\n",
       "       [7.9316916e-03, 3.2075902e-06, 4.8985650e-05, ..., 9.9173295e-01,\n",
       "        2.4346548e-06, 2.8659968e-05],\n",
       "       [9.9751043e-01, 2.8664927e-06, 1.2347987e-04, ..., 5.0269398e-07,\n",
       "        3.2823844e-04, 4.0827814e-04],\n",
       "       [1.2873393e-05, 3.4749326e-06, 9.9997842e-01, ..., 1.0126403e-06,\n",
       "        8.4059457e-07, 3.3106696e-06]], dtype=float32)"
      ]
     },
     "execution_count": 20,
     "metadata": {},
     "output_type": "execute_result"
    }
   ],
   "source": [
    "y_pred = model.predict(test_set)\n",
    "y_pred"
   ]
  },
  {
   "cell_type": "code",
   "execution_count": 23,
   "metadata": {
    "colab": {
     "base_uri": "https://localhost:8080/"
    },
    "id": "Ua_hFalY4E0K",
    "outputId": "8a425f4b-e710-4524-a184-a309112535e7"
   },
   "outputs": [
    {
     "data": {
      "text/plain": [
       "1"
      ]
     },
     "execution_count": 23,
     "metadata": {},
     "output_type": "execute_result"
    }
   ],
   "source": [
    "import numpy as np\n",
    "y_pred = np.argmax(y_pred, axis=0)\n",
    "y_pred"
   ]
  },
  {
   "cell_type": "code",
   "execution_count": 24,
   "metadata": {
    "id": "SQCuLoKe4E3D"
   },
   "outputs": [],
   "source": [
    "from tensorflow.keras.models import load_model\n",
    "from tensorflow.keras.preprocessing import image"
   ]
  },
  {
   "cell_type": "code",
   "execution_count": 25,
   "metadata": {
    "id": "uCq7u37S3_Kw"
   },
   "outputs": [],
   "source": [
    "model=load_model('model_VGG19.h5')"
   ]
  },
  {
   "cell_type": "code",
   "execution_count": 26,
   "metadata": {
    "id": "RIwsaTts4e-S"
   },
   "outputs": [],
   "source": [
    "img=image.load_img('/content/Dataset/Cars Dataset/test/Audi/1000.jpg',target_size=(224,224))\n",
    "\n"
   ]
  },
  {
   "cell_type": "code",
   "execution_count": 27,
   "metadata": {
    "colab": {
     "base_uri": "https://localhost:8080/"
    },
    "id": "52hn3Wuk4fgD",
    "outputId": "68e2f5c7-fbdc-4ee2-e8f1-bd6d95f74085"
   },
   "outputs": [
    {
     "data": {
      "text/plain": [
       "array([[[ 15.,  21.,  37.],\n",
       "        [ 15.,  21.,  37.],\n",
       "        [ 15.,  21.,  37.],\n",
       "        ...,\n",
       "        [ 11.,  17.,  33.],\n",
       "        [ 11.,  17.,  33.],\n",
       "        [ 11.,  17.,  33.]],\n",
       "\n",
       "       [[ 15.,  21.,  37.],\n",
       "        [ 15.,  21.,  37.],\n",
       "        [ 15.,  21.,  37.],\n",
       "        ...,\n",
       "        [ 11.,  17.,  33.],\n",
       "        [ 11.,  17.,  33.],\n",
       "        [ 11.,  17.,  33.]],\n",
       "\n",
       "       [[ 16.,  22.,  38.],\n",
       "        [ 16.,  22.,  38.],\n",
       "        [ 16.,  22.,  38.],\n",
       "        ...,\n",
       "        [ 11.,  17.,  33.],\n",
       "        [ 11.,  17.,  33.],\n",
       "        [ 11.,  17.,  33.]],\n",
       "\n",
       "       ...,\n",
       "\n",
       "       [[ 94., 101., 109.],\n",
       "        [ 93., 100., 108.],\n",
       "        [ 96., 103., 111.],\n",
       "        ...,\n",
       "        [ 69.,  76.,  86.],\n",
       "        [ 68.,  75.,  85.],\n",
       "        [ 68.,  75.,  85.]],\n",
       "\n",
       "       [[ 86.,  93., 101.],\n",
       "        [ 91.,  98., 106.],\n",
       "        [ 93., 100., 108.],\n",
       "        ...,\n",
       "        [ 67.,  74.,  84.],\n",
       "        [ 68.,  75.,  85.],\n",
       "        [ 69.,  76.,  86.]],\n",
       "\n",
       "       [[ 77.,  84.,  92.],\n",
       "        [ 71.,  78.,  86.],\n",
       "        [ 77.,  84.,  92.],\n",
       "        ...,\n",
       "        [ 71.,  78.,  88.],\n",
       "        [ 66.,  73.,  83.],\n",
       "        [ 66.,  73.,  83.]]], dtype=float32)"
      ]
     },
     "execution_count": 27,
     "metadata": {},
     "output_type": "execute_result"
    }
   ],
   "source": [
    "x=image.img_to_array(img)\n",
    "x"
   ]
  },
  {
   "cell_type": "code",
   "execution_count": 28,
   "metadata": {
    "colab": {
     "base_uri": "https://localhost:8080/"
    },
    "id": "yU5O06HZ4fiz",
    "outputId": "a2e40039-b1f8-43a5-9024-21bd5926d6de"
   },
   "outputs": [
    {
     "data": {
      "text/plain": [
       "(224, 224, 3)"
      ]
     },
     "execution_count": 28,
     "metadata": {},
     "output_type": "execute_result"
    }
   ],
   "source": [
    "x.shape"
   ]
  },
  {
   "cell_type": "code",
   "execution_count": 29,
   "metadata": {
    "id": "9_bDvl-H4pfr"
   },
   "outputs": [],
   "source": [
    "x=x/255"
   ]
  },
  {
   "cell_type": "code",
   "execution_count": 30,
   "metadata": {
    "colab": {
     "base_uri": "https://localhost:8080/"
    },
    "id": "wo3VEI8A4pio",
    "outputId": "3f5b36e1-a0da-4829-841a-a7fec6871d61"
   },
   "outputs": [
    {
     "data": {
      "text/plain": [
       "(1, 224, 224, 3)"
      ]
     },
     "execution_count": 30,
     "metadata": {},
     "output_type": "execute_result"
    }
   ],
   "source": [
    "import numpy as np\n",
    "x=np.expand_dims(x,axis=0)\n",
    "img_data=preprocess_input(x)\n",
    "img_data.shape"
   ]
  },
  {
   "cell_type": "code",
   "execution_count": 31,
   "metadata": {
    "colab": {
     "base_uri": "https://localhost:8080/"
    },
    "id": "jNI13z_U4plb",
    "outputId": "ec432d29-948e-427f-c18d-5e8d6f73074c"
   },
   "outputs": [
    {
     "name": "stdout",
     "output_type": "stream",
     "text": [
      "1/1 [==============================] - 1s 843ms/step\n"
     ]
    },
    {
     "data": {
      "text/plain": [
       "array([[6.6035049e-08, 2.3933211e-01, 2.6261511e-03, 4.2707013e-10,\n",
       "        1.2259605e-06, 7.5804043e-01, 1.9619441e-15]], dtype=float32)"
      ]
     },
     "execution_count": 31,
     "metadata": {},
     "output_type": "execute_result"
    }
   ],
   "source": [
    "model.predict(img_data)"
   ]
  },
  {
   "cell_type": "code",
   "execution_count": 34,
   "metadata": {
    "colab": {
     "base_uri": "https://localhost:8080/"
    },
    "id": "5d14l2u24po9",
    "outputId": "77177eeb-9162-40cb-9549-ad3a5dcabf22"
   },
   "outputs": [
    {
     "name": "stdout",
     "output_type": "stream",
     "text": [
      "1/1 [==============================] - 0s 20ms/step\n"
     ]
    }
   ],
   "source": [
    "a=np.argmax(model.predict(img_data), axis=1)"
   ]
  },
  {
   "cell_type": "code",
   "execution_count": 35,
   "metadata": {
    "colab": {
     "base_uri": "https://localhost:8080/"
    },
    "id": "wQuKf0BO4prm",
    "outputId": "4fdf04c4-0b96-4ab0-edc7-d8cf8367375d"
   },
   "outputs": [
    {
     "data": {
      "text/plain": [
       "array([False])"
      ]
     },
     "execution_count": 35,
     "metadata": {},
     "output_type": "execute_result"
    }
   ],
   "source": [
    "a==1"
   ]
  },
  {
   "cell_type": "code",
   "execution_count": null,
   "metadata": {
    "id": "LNKXjVKd4flu"
   },
   "outputs": [],
   "source": []
  }
 ],
 "metadata": {
  "accelerator": "GPU",
  "colab": {
   "provenance": []
  },
  "gpuClass": "standard",
  "kernelspec": {
   "display_name": "Python 3 (ipykernel)",
   "language": "python",
   "name": "python3"
  },
  "language_info": {
   "codemirror_mode": {
    "name": "ipython",
    "version": 3
   },
   "file_extension": ".py",
   "mimetype": "text/x-python",
   "name": "python",
   "nbconvert_exporter": "python",
   "pygments_lexer": "ipython3",
   "version": "3.9.13"
  }
 },
 "nbformat": 4,
 "nbformat_minor": 1
}
